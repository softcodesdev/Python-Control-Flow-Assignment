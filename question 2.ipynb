{
 "cells": [
  {
   "cell_type": "code",
   "execution_count": 2,
   "metadata": {},
   "outputs": [
    {
     "name": "stdout",
     "output_type": "stream",
     "text": [
      "What is the starting day number? \n",
      "2\n",
      "That's a Tuesday.\n",
      "How many nights did you sleep at your destination? \n",
      "35\n",
      "You left your destination on a Tuesday.\n"
     ]
    }
   ],
   "source": [
    "# Write a general version of the program which asks for the starting day number, and the length of your stay, and it will tell you the name of day of the week you will return on.\n",
    "\n",
    "# convert days of the week and store them in a dictionary!\n",
    "weekdays = {0: \"Sunday\", 1: \"Monday\", 2: \"Tuesday\", 3: \"Wednesday\", \\\n",
    "            4: \"Thursday\", 5: \"Friday\", 6: \"Saturday\"}\n",
    "\n",
    "start_date = int(input(\"What is the starting day number? \\n\"))\n",
    "print(\"That's a {}.\".format(weekdays[start_date]))\n",
    "\n",
    "nights_at_destination = int(input(\"How many nights did you sleep at your destination? \\n\"))\n",
    "\n",
    "# Modular math to find ending day of the week.\n",
    "z = (start_date + nights_at_destination) % 7\n",
    "print(\"You left your destination on a {}.\".format(weekdays[z]))\n",
    "\n",
    "\n",
    "\n",
    "\n",
    "\n"
   ]
  },
  {
   "cell_type": "code",
   "execution_count": null,
   "metadata": {},
   "outputs": [],
   "source": []
  }
 ],
 "metadata": {
  "kernelspec": {
   "display_name": "Python 3",
   "language": "python",
   "name": "python3"
  },
  "language_info": {
   "codemirror_mode": {
    "name": "ipython",
    "version": 3
   },
   "file_extension": ".py",
   "mimetype": "text/x-python",
   "name": "python",
   "nbconvert_exporter": "python",
   "pygments_lexer": "ipython3",
   "version": "3.8.8"
  }
 },
 "nbformat": 4,
 "nbformat_minor": 4
}
