{
 "cells": [
  {
   "cell_type": "code",
   "execution_count": null,
   "metadata": {
    "scrolled": true
   },
   "outputs": [],
   "source": [
    "\n",
    "        try:\n",
    "            # Write a Python program, which asks for a year and calculates, if this year is a leap year or not.\n",
    "\n",
    "            # obtain the year from the user!\n",
    "            year = int(input(\"Enter a year: \"))\n",
    "\n",
    "            if (year % 4) == 0:\n",
    "               if (year % 100) == 0:\n",
    "                   if (year % 400) == 0:\n",
    "                       print(\"{0} is a leap year\".format(year))\n",
    "                   else:\n",
    "                       print(\"{0} is not a leap year\".format(year))\n",
    "               else:\n",
    "                   print(\"{0} is a leap year\".format(year))\n",
    "            else:\n",
    "               print(\"{0} is not a leap year\".format(year))\n",
    "\n",
    "        except ValueError as e:\n",
    "            print(\"Please Enter Year in digits e.g 2022 ! Try it again\")"
   ]
  },
  {
   "cell_type": "code",
   "execution_count": null,
   "metadata": {},
   "outputs": [],
   "source": []
  }
 ],
 "metadata": {
  "kernelspec": {
   "display_name": "Python 3",
   "language": "python",
   "name": "python3"
  },
  "language_info": {
   "codemirror_mode": {
    "name": "ipython",
    "version": 3
   },
   "file_extension": ".py",
   "mimetype": "text/x-python",
   "name": "python",
   "nbconvert_exporter": "python",
   "pygments_lexer": "ipython3",
   "version": "3.8.8"
  }
 },
 "nbformat": 4,
 "nbformat_minor": 4
}
