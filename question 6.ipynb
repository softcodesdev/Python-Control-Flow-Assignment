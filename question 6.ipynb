{
 "cells": [
  {
   "cell_type": "code",
   "execution_count": 5,
   "metadata": {},
   "outputs": [
    {
     "name": "stdout",
     "output_type": "stream",
     "text": [
      "Enter Password to check for it's validitycV02WE!rY\n",
      "strong Password\n"
     ]
    }
   ],
   "source": [
    "# let us import RegularExpression\n",
    "import re\n",
    "password= input(\"Enter Password to check for it's validity\")\n",
    "x = True\n",
    "while x:  \n",
    "    if (len(password)<6 or len(password)>16):\n",
    "        break\n",
    "    elif not re.search(\"[a-z]\",password):\n",
    "        break\n",
    "    elif not re.search(\"[0-9]\",password):\n",
    "        break\n",
    "    elif not re.search(\"[A-Z]\",password):\n",
    "        break\n",
    "    elif not re.search(\"[$#@!]\",password):\n",
    "        break\n",
    "    elif re.search(\"\\s\",password):\n",
    "        break\n",
    "    else:\n",
    "        print(\"strong Password\")\n",
    "        x=False\n",
    "        break\n",
    "\n",
    "if x:\n",
    "    print(\"Password is weak\")"
   ]
  },
  {
   "cell_type": "code",
   "execution_count": null,
   "metadata": {},
   "outputs": [],
   "source": []
  }
 ],
 "metadata": {
  "kernelspec": {
   "display_name": "Python 3",
   "language": "python",
   "name": "python3"
  },
  "language_info": {
   "codemirror_mode": {
    "name": "ipython",
    "version": 3
   },
   "file_extension": ".py",
   "mimetype": "text/x-python",
   "name": "python",
   "nbconvert_exporter": "python",
   "pygments_lexer": "ipython3",
   "version": "3.7.6"
  }
 },
 "nbformat": 4,
 "nbformat_minor": 4
}
