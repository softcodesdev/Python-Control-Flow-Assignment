{
 "cells": [
  {
   "cell_type": "code",
   "execution_count": 8,
   "metadata": {},
   "outputs": [
    {
     "name": "stdout",
     "output_type": "stream",
     "text": [
      "Please type a score between 0.0 and 1.0:0.95\n",
      "A\n"
     ]
    }
   ],
   "source": [
    "score=input(\"Please type a score between 0.0 and 1.0:\")\n",
    "try:\n",
    "  float(score)\n",
    "  if float(score) >= 0.9 and float(score) <= 1.0:\n",
    "    print(\"A\")\n",
    "  elif float(score) >= 0.8 and float(score) <= 0.9:\n",
    "    print(\"B\")\n",
    "  elif float(score) >= 0.7 and float(score) <= 0.8:\n",
    "    print(\"C\")\n",
    "  elif float(score) >= 0.6 and float(score) <= 0.7:\n",
    "    print(\"D\")\n",
    "  elif float(score) > 0 and float(score) <= 0.6:\n",
    "    print(\"F\")\n",
    "  else:\n",
    "    print(\"Kindly enter a score between 0.0 and 1.0, and try again!\")  \n",
    "except: \n",
    "    print(\"Kindly enter a score between 0.0 and 1.0, and try again!\")"
   ]
  },
  {
   "cell_type": "code",
   "execution_count": null,
   "metadata": {},
   "outputs": [],
   "source": []
  }
 ],
 "metadata": {
  "kernelspec": {
   "display_name": "Python 3",
   "language": "python",
   "name": "python3"
  },
  "language_info": {
   "codemirror_mode": {
    "name": "ipython",
    "version": 3
   },
   "file_extension": ".py",
   "mimetype": "text/x-python",
   "name": "python",
   "nbconvert_exporter": "python",
   "pygments_lexer": "ipython3",
   "version": "3.7.6"
  }
 },
 "nbformat": 4,
 "nbformat_minor": 4
}
