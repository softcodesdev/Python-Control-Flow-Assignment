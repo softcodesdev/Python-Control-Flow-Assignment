{
 "cells": [
  {
   "cell_type": "code",
   "execution_count": 1,
   "metadata": {},
   "outputs": [],
   "source": [
    "# Define cost of teaching python\n",
    "cost = 25000\n",
    "r = 0.01\n",
    "\n",
    "# Per month value\n",
    "added_value = 2500\n",
    "\n",
    "n_months = 0\n",
    "total_npv = 0.0\n",
    "# let us compute period(months) using compound interest formular as shown  below:\n",
    "\n",
    "t =ln(A/P)/n[ln(1+r/n)]\n",
    "\n",
    "# Put condition below here\n",
    "while False: \n",
    "    n_months = n_months + 1  \n",
    "\n",
    "    # Increase total_npv"
   ]
  }
 ],
 "metadata": {
  "kernelspec": {
   "display_name": "Python 3",
   "language": "python",
   "name": "python3"
  },
  "language_info": {
   "codemirror_mode": {
    "name": "ipython",
    "version": 3
   },
   "file_extension": ".py",
   "mimetype": "text/x-python",
   "name": "python",
   "nbconvert_exporter": "python",
   "pygments_lexer": "ipython3",
   "version": "3.7.6"
  }
 },
 "nbformat": 4,
 "nbformat_minor": 4
}
